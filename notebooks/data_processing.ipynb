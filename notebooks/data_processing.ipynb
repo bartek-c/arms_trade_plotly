{
 "cells": [
  {
   "cell_type": "code",
   "execution_count": 1,
   "id": "b0af3094-b145-445f-93ef-21bc17abfa83",
   "metadata": {},
   "outputs": [],
   "source": [
    "import os\n",
    "import sys\n",
    "\n",
    "base_path = os.path.abspath('..')\n",
    "base_path += '/'\n",
    "sys.path.append(base_path)"
   ]
  },
  {
   "cell_type": "code",
   "execution_count": 2,
   "id": "e5f9e66b-7ec6-4659-81c6-1682eca667c4",
   "metadata": {},
   "outputs": [],
   "source": [
    "import pandas as pd\n",
    "import numpy as np\n",
    "\n",
    "pd.options.display.max_columns=999"
   ]
  },
  {
   "cell_type": "markdown",
   "id": "b769e8c0-bdfb-464a-99ea-291340c96a81",
   "metadata": {},
   "source": [
    "Data has been sourced from https://armstransfers.sipri.org/ArmsTransfer/ImportExport."
   ]
  },
  {
   "cell_type": "code",
   "execution_count": 6,
   "id": "01afd16b-1565-4f1b-815e-8c279db1555e",
   "metadata": {},
   "outputs": [
    {
     "name": "stdout",
     "output_type": "stream",
     "text": [
      "(59157, 17)\n"
     ]
    },
    {
     "data": {
      "text/html": [
       "<div>\n",
       "<style scoped>\n",
       "    .dataframe tbody tr th:only-of-type {\n",
       "        vertical-align: middle;\n",
       "    }\n",
       "\n",
       "    .dataframe tbody tr th {\n",
       "        vertical-align: top;\n",
       "    }\n",
       "\n",
       "    .dataframe thead th {\n",
       "        text-align: right;\n",
       "    }\n",
       "</style>\n",
       "<table border=\"1\" class=\"dataframe\">\n",
       "  <thead>\n",
       "    <tr style=\"text-align: right;\">\n",
       "      <th></th>\n",
       "      <th>SIPRI AT Database ID</th>\n",
       "      <th>Supplier</th>\n",
       "      <th>Recipient</th>\n",
       "      <th>Designation</th>\n",
       "      <th>Description</th>\n",
       "      <th>Armament category</th>\n",
       "      <th>Order date</th>\n",
       "      <th>Order date is estimate</th>\n",
       "      <th>Numbers delivered</th>\n",
       "      <th>Numbers delivered is estimate</th>\n",
       "      <th>Delivery year</th>\n",
       "      <th>Delivery year is estimate</th>\n",
       "      <th>Status</th>\n",
       "      <th>SIPRI estimate</th>\n",
       "      <th>TIV deal unit</th>\n",
       "      <th>TIV delivery values</th>\n",
       "      <th>Local production</th>\n",
       "    </tr>\n",
       "  </thead>\n",
       "  <tbody>\n",
       "    <tr>\n",
       "      <th>0</th>\n",
       "      <td>61768</td>\n",
       "      <td>Belarus</td>\n",
       "      <td>Afghanistan</td>\n",
       "      <td>Mi-24V</td>\n",
       "      <td>combat helicopter</td>\n",
       "      <td>Aircraft</td>\n",
       "      <td>2018</td>\n",
       "      <td>No</td>\n",
       "      <td>4</td>\n",
       "      <td>No</td>\n",
       "      <td>2019</td>\n",
       "      <td>No</td>\n",
       "      <td>Second hand</td>\n",
       "      <td>8.50</td>\n",
       "      <td>3.40</td>\n",
       "      <td>13.60</td>\n",
       "      <td>No</td>\n",
       "    </tr>\n",
       "    <tr>\n",
       "      <th>1</th>\n",
       "      <td>52034</td>\n",
       "      <td>Bosnia-Herzegovina</td>\n",
       "      <td>Afghanistan</td>\n",
       "      <td>D-30 122mm</td>\n",
       "      <td>towed gun</td>\n",
       "      <td>Artillery</td>\n",
       "      <td>2009</td>\n",
       "      <td>No</td>\n",
       "      <td>60</td>\n",
       "      <td>Yes</td>\n",
       "      <td>2011</td>\n",
       "      <td>No</td>\n",
       "      <td>Second hand but modernized</td>\n",
       "      <td>0.35</td>\n",
       "      <td>0.23</td>\n",
       "      <td>13.86</td>\n",
       "      <td>No</td>\n",
       "    </tr>\n",
       "    <tr>\n",
       "      <th>2</th>\n",
       "      <td>58418</td>\n",
       "      <td>Bosnia-Herzegovina</td>\n",
       "      <td>Afghanistan</td>\n",
       "      <td>D-30 122mm</td>\n",
       "      <td>towed gun</td>\n",
       "      <td>Artillery</td>\n",
       "      <td>2012</td>\n",
       "      <td>Yes</td>\n",
       "      <td>20</td>\n",
       "      <td>No</td>\n",
       "      <td>2013</td>\n",
       "      <td>No</td>\n",
       "      <td>Second hand</td>\n",
       "      <td>0.35</td>\n",
       "      <td>0.14</td>\n",
       "      <td>2.80</td>\n",
       "      <td>No</td>\n",
       "    </tr>\n",
       "    <tr>\n",
       "      <th>3</th>\n",
       "      <td>53169</td>\n",
       "      <td>Brazil</td>\n",
       "      <td>Afghanistan</td>\n",
       "      <td>EMB-314 -</td>\n",
       "      <td>trainer/combat aircraft</td>\n",
       "      <td>Aircraft</td>\n",
       "      <td>2013</td>\n",
       "      <td>No</td>\n",
       "      <td>20</td>\n",
       "      <td>Yes</td>\n",
       "      <td>2016</td>\n",
       "      <td>No</td>\n",
       "      <td>New</td>\n",
       "      <td>4.50</td>\n",
       "      <td>4.50</td>\n",
       "      <td>90.00</td>\n",
       "      <td>No</td>\n",
       "    </tr>\n",
       "    <tr>\n",
       "      <th>4</th>\n",
       "      <td>60320</td>\n",
       "      <td>Brazil</td>\n",
       "      <td>Afghanistan</td>\n",
       "      <td>EMB-314 -</td>\n",
       "      <td>trainer/combat aircraft</td>\n",
       "      <td>Aircraft</td>\n",
       "      <td>2017</td>\n",
       "      <td>No</td>\n",
       "      <td>6</td>\n",
       "      <td>Yes</td>\n",
       "      <td>2018</td>\n",
       "      <td>No</td>\n",
       "      <td>New</td>\n",
       "      <td>4.50</td>\n",
       "      <td>4.50</td>\n",
       "      <td>27.00</td>\n",
       "      <td>No</td>\n",
       "    </tr>\n",
       "  </tbody>\n",
       "</table>\n",
       "</div>"
      ],
      "text/plain": [
       "   SIPRI AT Database ID            Supplier    Recipient Designation  \\\n",
       "0                 61768             Belarus  Afghanistan      Mi-24V   \n",
       "1                 52034  Bosnia-Herzegovina  Afghanistan  D-30 122mm   \n",
       "2                 58418  Bosnia-Herzegovina  Afghanistan  D-30 122mm   \n",
       "3                 53169              Brazil  Afghanistan   EMB-314 -   \n",
       "4                 60320              Brazil  Afghanistan   EMB-314 -   \n",
       "\n",
       "               Description Armament category  Order date  \\\n",
       "0        combat helicopter          Aircraft        2018   \n",
       "1                towed gun         Artillery        2009   \n",
       "2                towed gun         Artillery        2012   \n",
       "3  trainer/combat aircraft          Aircraft        2013   \n",
       "4  trainer/combat aircraft          Aircraft        2017   \n",
       "\n",
       "  Order date is estimate  Numbers delivered Numbers delivered is estimate  \\\n",
       "0                     No                  4                            No   \n",
       "1                     No                 60                           Yes   \n",
       "2                    Yes                 20                            No   \n",
       "3                     No                 20                           Yes   \n",
       "4                     No                  6                           Yes   \n",
       "\n",
       "   Delivery year Delivery year is estimate                      Status  \\\n",
       "0           2019                        No                 Second hand   \n",
       "1           2011                        No  Second hand but modernized   \n",
       "2           2013                        No                 Second hand   \n",
       "3           2016                        No                         New   \n",
       "4           2018                        No                         New   \n",
       "\n",
       "   SIPRI estimate  TIV deal unit  TIV delivery values Local production  \n",
       "0            8.50           3.40                13.60               No  \n",
       "1            0.35           0.23                13.86               No  \n",
       "2            0.35           0.14                 2.80               No  \n",
       "3            4.50           4.50                90.00               No  \n",
       "4            4.50           4.50                27.00               No  "
      ]
     },
     "execution_count": 6,
     "metadata": {},
     "output_type": "execute_result"
    }
   ],
   "source": [
    "df = pd.read_csv(base_path + \"data/trade_register.csv\")\n",
    "print(df.shape)\n",
    "df.head()"
   ]
  },
  {
   "cell_type": "code",
   "execution_count": 8,
   "id": "798dc9bc-006c-47a5-8233-8d39598f9d42",
   "metadata": {},
   "outputs": [
    {
     "data": {
      "text/html": [
       "<div>\n",
       "<style scoped>\n",
       "    .dataframe tbody tr th:only-of-type {\n",
       "        vertical-align: middle;\n",
       "    }\n",
       "\n",
       "    .dataframe tbody tr th {\n",
       "        vertical-align: top;\n",
       "    }\n",
       "\n",
       "    .dataframe thead th {\n",
       "        text-align: right;\n",
       "    }\n",
       "</style>\n",
       "<table border=\"1\" class=\"dataframe\">\n",
       "  <thead>\n",
       "    <tr style=\"text-align: right;\">\n",
       "      <th></th>\n",
       "      <th>ID</th>\n",
       "      <th>Supplier</th>\n",
       "      <th>Recipient</th>\n",
       "      <th>Armament category</th>\n",
       "      <th>Order year</th>\n",
       "      <th>Delivery year</th>\n",
       "      <th>Numbers delivered</th>\n",
       "      <th>SIPRI estimate</th>\n",
       "      <th>TIV delivery values</th>\n",
       "    </tr>\n",
       "  </thead>\n",
       "  <tbody>\n",
       "    <tr>\n",
       "      <th>0</th>\n",
       "      <td>61768</td>\n",
       "      <td>Belarus</td>\n",
       "      <td>Afghanistan</td>\n",
       "      <td>Aircraft</td>\n",
       "      <td>2018</td>\n",
       "      <td>2019</td>\n",
       "      <td>4</td>\n",
       "      <td>8.50</td>\n",
       "      <td>13.60</td>\n",
       "    </tr>\n",
       "    <tr>\n",
       "      <th>1</th>\n",
       "      <td>52034</td>\n",
       "      <td>Bosnia-Herzegovina</td>\n",
       "      <td>Afghanistan</td>\n",
       "      <td>Artillery</td>\n",
       "      <td>2009</td>\n",
       "      <td>2011</td>\n",
       "      <td>60</td>\n",
       "      <td>0.35</td>\n",
       "      <td>13.86</td>\n",
       "    </tr>\n",
       "    <tr>\n",
       "      <th>2</th>\n",
       "      <td>58418</td>\n",
       "      <td>Bosnia-Herzegovina</td>\n",
       "      <td>Afghanistan</td>\n",
       "      <td>Artillery</td>\n",
       "      <td>2012</td>\n",
       "      <td>2013</td>\n",
       "      <td>20</td>\n",
       "      <td>0.35</td>\n",
       "      <td>2.80</td>\n",
       "    </tr>\n",
       "    <tr>\n",
       "      <th>3</th>\n",
       "      <td>53169</td>\n",
       "      <td>Brazil</td>\n",
       "      <td>Afghanistan</td>\n",
       "      <td>Aircraft</td>\n",
       "      <td>2013</td>\n",
       "      <td>2016</td>\n",
       "      <td>20</td>\n",
       "      <td>4.50</td>\n",
       "      <td>90.00</td>\n",
       "    </tr>\n",
       "    <tr>\n",
       "      <th>4</th>\n",
       "      <td>60320</td>\n",
       "      <td>Brazil</td>\n",
       "      <td>Afghanistan</td>\n",
       "      <td>Aircraft</td>\n",
       "      <td>2017</td>\n",
       "      <td>2018</td>\n",
       "      <td>6</td>\n",
       "      <td>4.50</td>\n",
       "      <td>27.00</td>\n",
       "    </tr>\n",
       "  </tbody>\n",
       "</table>\n",
       "</div>"
      ],
      "text/plain": [
       "      ID            Supplier    Recipient Armament category  Order year  \\\n",
       "0  61768             Belarus  Afghanistan          Aircraft        2018   \n",
       "1  52034  Bosnia-Herzegovina  Afghanistan         Artillery        2009   \n",
       "2  58418  Bosnia-Herzegovina  Afghanistan         Artillery        2012   \n",
       "3  53169              Brazil  Afghanistan          Aircraft        2013   \n",
       "4  60320              Brazil  Afghanistan          Aircraft        2017   \n",
       "\n",
       "   Delivery year  Numbers delivered  SIPRI estimate  TIV delivery values  \n",
       "0           2019                  4            8.50                13.60  \n",
       "1           2011                 60            0.35                13.86  \n",
       "2           2013                 20            0.35                 2.80  \n",
       "3           2016                 20            4.50                90.00  \n",
       "4           2018                  6            4.50                27.00  "
      ]
     },
     "execution_count": 8,
     "metadata": {},
     "output_type": "execute_result"
    }
   ],
   "source": [
    "df.rename(columns={'SIPRI AT Database ID':'ID', 'Order date':'Order year'}, inplace=True)\n",
    "df=df[['ID', 'Supplier', 'Recipient', 'Armament category', 'Order year', 'Delivery year', 'Numbers delivered', 'SIPRI estimate', 'TIV delivery values']].copy()\n",
    "df.head()"
   ]
  },
  {
   "cell_type": "code",
   "execution_count": 9,
   "id": "500856a2-f63c-471b-a8ad-b66926c5b082",
   "metadata": {},
   "outputs": [
    {
     "data": {
      "text/plain": [
       "['ANC (South Africa)*', 'Afghanistan', 'African Union**', 'Albania', 'Algeria']"
      ]
     },
     "execution_count": 9,
     "metadata": {},
     "output_type": "execute_result"
    }
   ],
   "source": [
    "regions = sorted(list(set(list(df.Supplier.unique()) + list(df.Recipient.unique()))))\n",
    "regions[:5]"
   ]
  },
  {
   "cell_type": "code",
   "execution_count": 10,
   "id": "097fedfe-e299-4c44-9b33-1835a222e3c0",
   "metadata": {},
   "outputs": [
    {
     "data": {
      "text/plain": [
       "['Afghanistan', 'Albania', 'Algeria', 'Angola', 'Antigua and Barbuda']"
      ]
     },
     "execution_count": 10,
     "metadata": {},
     "output_type": "execute_result"
    }
   ],
   "source": [
    "countries = [region for region in regions if ('unknown' not in region) and not region.endswith('*')]\n",
    "countries[:5]"
   ]
  },
  {
   "cell_type": "code",
   "execution_count": 11,
   "id": "7c615817-fb09-4510-8ed7-ae7384c01e19",
   "metadata": {},
   "outputs": [
    {
     "data": {
      "text/plain": [
       "['ANC (South Africa)*',\n",
       " 'Amal (Lebanon)*',\n",
       " 'Anti-Castro rebels (Cuba)*',\n",
       " 'Armas (Guatemala)*',\n",
       " 'Contras (Nicaragua)*']"
      ]
     },
     "execution_count": 11,
     "metadata": {},
     "output_type": "execute_result"
    }
   ],
   "source": [
    "rebel_groups = [region for region in regions if ('unknown' not in region) and region.endswith('*') and not region.endswith('**')]\n",
    "rebel_groups[:5]"
   ]
  },
  {
   "cell_type": "code",
   "execution_count": 12,
   "id": "9c470673-bf6c-4c8b-a6f5-0485cdca19e6",
   "metadata": {},
   "outputs": [
    {
     "data": {
      "text/plain": [
       "['African Union**',\n",
       " 'European Union**',\n",
       " 'NATO**',\n",
       " 'OSCE**',\n",
       " 'Regional Security System**',\n",
       " 'United Nations**']"
      ]
     },
     "execution_count": 12,
     "metadata": {},
     "output_type": "execute_result"
    }
   ],
   "source": [
    "orgs = [region for region in regions if ('unknown' not in region) and region.endswith('**')]\n",
    "orgs"
   ]
  },
  {
   "cell_type": "code",
   "execution_count": 13,
   "id": "f3f965a3-7abc-42ea-affe-ec4779e27469",
   "metadata": {},
   "outputs": [],
   "source": [
    "import pycountry"
   ]
  },
  {
   "cell_type": "code",
   "execution_count": 14,
   "id": "a553aeec-1d29-4668-9669-e5696a04b91e",
   "metadata": {},
   "outputs": [
    {
     "name": "stdout",
     "output_type": "stream",
     "text": [
      "SubdivisionHierarchy(code='NL-AW', country_code='NL', name='Aruba', parent_code=None, type='Country')\n",
      "SubdivisionHierarchy(code='BZ-BZ', country_code='BZ', name='Belize', parent_code=None, type='District')\n",
      "SubdivisionHierarchy(code='DJ-DJ', country_code='DJ', name='Djibouti', parent_code=None, type='City')\n",
      "SubdivisionHierarchy(code='US-GA', country_code='US', name='Georgia', parent_code=None, type='State')\n",
      "SubdivisionHierarchy(code='GT-GU', country_code='GT', name='Guatemala', parent_code=None, type='Department')\n",
      "SubdivisionHierarchy(code='BE-WLX', country_code='BE', name='Luxembourg', parent='WAL', parent_code='BE-WAL', type='Province')\n",
      "SubdivisionHierarchy(code='LU-LU', country_code='LU', name='Luxembourg', parent_code=None, type='Canton')\n",
      "SubdivisionHierarchy(code='GN-ML', country_code='GN', name='Mali', parent='L', parent_code='GN-L', type='Prefecture')\n",
      "SubdivisionHierarchy(code='MX-MEX', country_code='MX', name='México', parent_code=None, type='State')\n",
      "SubdivisionHierarchy(code='NG-NI', country_code='NG', name='Niger', parent_code=None, type='State')\n",
      "SubdivisionHierarchy(code='PA-8', country_code='PA', name='Panamá', parent_code=None, type='Province')\n"
     ]
    }
   ],
   "source": [
    "# country mapping\n",
    "country_mapping = {}\n",
    "pycountry_no_match = []\n",
    "for country in countries:\n",
    "    try:\n",
    "        country_mapping[country] = pycountry.countries.search_fuzzy(country)[0].alpha_3\n",
    "    except:\n",
    "        pycountry_no_match.append(country)"
   ]
  },
  {
   "cell_type": "code",
   "execution_count": 15,
   "id": "aa20e5f5-19e4-4645-b463-b362b0efd6de",
   "metadata": {},
   "outputs": [
    {
     "data": {
      "text/plain": [
       "{'Afghanistan': 'AFG',\n",
       " 'Albania': 'ALB',\n",
       " 'Algeria': 'DZA',\n",
       " 'Angola': 'AGO',\n",
       " 'Antigua and Barbuda': 'ATG',\n",
       " 'Argentina': 'ARG',\n",
       " 'Armenia': 'ARM',\n",
       " 'Aruba': 'ABW',\n",
       " 'Australia': 'AUS',\n",
       " 'Austria': 'AUT',\n",
       " 'Azerbaijan': 'AZE',\n",
       " 'Bahamas': 'BHS',\n",
       " 'Bahrain': 'BHR',\n",
       " 'Bangladesh': 'BGD',\n",
       " 'Barbados': 'BRB',\n",
       " 'Belarus': 'BLR',\n",
       " 'Belgium': 'BEL',\n",
       " 'Belize': 'BLZ',\n",
       " 'Benin': 'BEN',\n",
       " 'Bhutan': 'BTN',\n",
       " 'Bolivia': 'BOL',\n",
       " 'Botswana': 'BWA',\n",
       " 'Brazil': 'BRA',\n",
       " 'Brunei': 'BRN',\n",
       " 'Bulgaria': 'BGR',\n",
       " 'Burkina Faso': 'BFA',\n",
       " 'Burundi': 'BDI',\n",
       " 'Cabo Verde': 'CPV',\n",
       " 'Cambodia': 'KHM',\n",
       " 'Cameroon': 'CMR',\n",
       " 'Canada': 'CAN',\n",
       " 'Central African Republic': 'CAF',\n",
       " 'Chad': 'TCD',\n",
       " 'Chile': 'CHL',\n",
       " 'China': 'CHN',\n",
       " 'Colombia': 'COL',\n",
       " 'Comoros': 'COM',\n",
       " 'Congo': 'COG',\n",
       " 'Costa Rica': 'CRI',\n",
       " \"Cote d'Ivoire\": 'CIV',\n",
       " 'Croatia': 'HRV',\n",
       " 'Cuba': 'CUB',\n",
       " 'Cyprus': 'CYP',\n",
       " 'Czechia': 'CZE',\n",
       " 'Denmark': 'DNK',\n",
       " 'Djibouti': 'DJI',\n",
       " 'Dominican Republic': 'DOM',\n",
       " 'Ecuador': 'ECU',\n",
       " 'Egypt': 'EGY',\n",
       " 'El Salvador': 'SLV',\n",
       " 'Equatorial Guinea': 'GNQ',\n",
       " 'Eritrea': 'ERI',\n",
       " 'Estonia': 'EST',\n",
       " 'Ethiopia': 'ETH',\n",
       " 'Fiji': 'FJI',\n",
       " 'Finland': 'FIN',\n",
       " 'France': 'FRA',\n",
       " 'Gabon': 'GAB',\n",
       " 'Gambia': 'GMB',\n",
       " 'Georgia': 'GEO',\n",
       " 'Germany': 'DEU',\n",
       " 'Ghana': 'GHA',\n",
       " 'Greece': 'GRC',\n",
       " 'Grenada': 'GRD',\n",
       " 'Guatemala': 'GTM',\n",
       " 'Guinea': 'GIN',\n",
       " 'Guinea-Bissau': 'GNB',\n",
       " 'Guyana': 'GUY',\n",
       " 'Haiti': 'HTI',\n",
       " 'Honduras': 'HND',\n",
       " 'Hungary': 'HUN',\n",
       " 'Iceland': 'ISL',\n",
       " 'India': 'IND',\n",
       " 'Indonesia': 'IDN',\n",
       " 'Iran': 'IRN',\n",
       " 'Iraq': 'IRQ',\n",
       " 'Ireland': 'IRL',\n",
       " 'Israel': 'ISR',\n",
       " 'Italy': 'ITA',\n",
       " 'Jamaica': 'JAM',\n",
       " 'Japan': 'JPN',\n",
       " 'Jordan': 'JOR',\n",
       " 'Katanga': 'COD',\n",
       " 'Kazakhstan': 'KAZ',\n",
       " 'Kenya': 'KEN',\n",
       " 'Kiribati': 'KIR',\n",
       " 'Kosovo': 'SRB',\n",
       " 'Kuwait': 'KWT',\n",
       " 'Kyrgyzstan': 'KGZ',\n",
       " 'Laos': 'LAO',\n",
       " 'Latvia': 'LVA',\n",
       " 'Lebanon': 'LBN',\n",
       " 'Lesotho': 'LSO',\n",
       " 'Liberia': 'LBR',\n",
       " 'Libya': 'LBY',\n",
       " 'Lithuania': 'LTU',\n",
       " 'Luxembourg': 'LUX',\n",
       " 'Madagascar': 'MDG',\n",
       " 'Malawi': 'MWI',\n",
       " 'Malaysia': 'MYS',\n",
       " 'Maldives': 'MDV',\n",
       " 'Mali': 'MLI',\n",
       " 'Malta': 'MLT',\n",
       " 'Marshall Islands': 'MHL',\n",
       " 'Mauritania': 'MRT',\n",
       " 'Mauritius': 'MUS',\n",
       " 'Mexico': 'MEX',\n",
       " 'Micronesia': 'FSM',\n",
       " 'Moldova': 'MDA',\n",
       " 'Mongolia': 'MNG',\n",
       " 'Montenegro': 'MNE',\n",
       " 'Morocco': 'MAR',\n",
       " 'Mozambique': 'MOZ',\n",
       " 'Myanmar': 'MMR',\n",
       " 'Namibia': 'NAM',\n",
       " 'Nepal': 'NPL',\n",
       " 'Netherlands': 'NLD',\n",
       " 'New Zealand': 'NZL',\n",
       " 'Nicaragua': 'NIC',\n",
       " 'Niger': 'NGA',\n",
       " 'Nigeria': 'NGA',\n",
       " 'North Korea': 'PRK',\n",
       " 'North Macedonia': 'MKD',\n",
       " 'Norway': 'NOR',\n",
       " 'Oman': 'OMN',\n",
       " 'Pakistan': 'PAK',\n",
       " 'Palau': 'PLW',\n",
       " 'Palestine': 'PSE',\n",
       " 'Panama': 'PAN',\n",
       " 'Papua New Guinea': 'PNG',\n",
       " 'Paraguay': 'PRY',\n",
       " 'Peru': 'PER',\n",
       " 'Philippines': 'PHL',\n",
       " 'Poland': 'POL',\n",
       " 'Portugal': 'PRT',\n",
       " 'Qatar': 'QAT',\n",
       " 'Romania': 'ROU',\n",
       " 'Russia': 'RUS',\n",
       " 'Rwanda': 'RWA',\n",
       " 'Saint Kitts and Nevis': 'KNA',\n",
       " 'Saint Vincent': 'VCT',\n",
       " 'Samoa': 'WSM',\n",
       " 'Saudi Arabia': 'SAU',\n",
       " 'Senegal': 'SEN',\n",
       " 'Serbia': 'SRB',\n",
       " 'Seychelles': 'SYC',\n",
       " 'Sierra Leone': 'SLE',\n",
       " 'Singapore': 'SGP',\n",
       " 'Slovakia': 'SVK',\n",
       " 'Slovenia': 'SVN',\n",
       " 'Solomon Islands': 'SLB',\n",
       " 'Somalia': 'SOM',\n",
       " 'South Africa': 'ZAF',\n",
       " 'South Korea': 'KOR',\n",
       " 'South Sudan': 'SSD',\n",
       " 'Spain': 'ESP',\n",
       " 'Sri Lanka': 'LKA',\n",
       " 'Sudan': 'SDN',\n",
       " 'Suriname': 'SUR',\n",
       " 'Sweden': 'SWE',\n",
       " 'Switzerland': 'CHE',\n",
       " 'Syria': 'SYR',\n",
       " 'Taiwan': 'TWN',\n",
       " 'Tajikistan': 'TJK',\n",
       " 'Tanzania': 'TZA',\n",
       " 'Thailand': 'THA',\n",
       " 'Timor-Leste': 'TLS',\n",
       " 'Togo': 'TGO',\n",
       " 'Tonga': 'TON',\n",
       " 'Trinidad and Tobago': 'TTO',\n",
       " 'Tunisia': 'TUN',\n",
       " 'Turkiye': 'TUR',\n",
       " 'Turkmenistan': 'TKM',\n",
       " 'Tuvalu': 'TUV',\n",
       " 'Uganda': 'UGA',\n",
       " 'Ukraine': 'UKR',\n",
       " 'United Kingdom': 'GBR',\n",
       " 'United States': 'USA',\n",
       " 'Uruguay': 'URY',\n",
       " 'Uzbekistan': 'UZB',\n",
       " 'Vanuatu': 'VUT',\n",
       " 'Venezuela': 'VEN',\n",
       " 'Viet Nam': 'VNM',\n",
       " 'Western Sahara': 'ESH',\n",
       " 'Yemen': 'YEM',\n",
       " 'Zambia': 'ZMB',\n",
       " 'Zimbabwe': 'ZWE',\n",
       " 'eSwatini': 'SWZ'}"
      ]
     },
     "execution_count": 15,
     "metadata": {},
     "output_type": "execute_result"
    }
   ],
   "source": [
    "country_mapping"
   ]
  },
  {
   "cell_type": "code",
   "execution_count": 16,
   "id": "105e602d-d440-4fa5-b87e-a1ffd91917a9",
   "metadata": {},
   "outputs": [
    {
     "data": {
      "text/plain": [
       "['Biafra',\n",
       " 'Bosnia-Herzegovina',\n",
       " 'Czechoslovakia',\n",
       " 'DR Congo',\n",
       " 'East Germany (GDR)',\n",
       " 'Libya GNC',\n",
       " 'North Yemen',\n",
       " 'Northern Cyprus',\n",
       " 'South Vietnam',\n",
       " 'South Yemen',\n",
       " 'Soviet Union',\n",
       " 'UAE',\n",
       " 'Yemen Arab Republic (North Yemen)',\n",
       " 'Yugoslavia']"
      ]
     },
     "execution_count": 16,
     "metadata": {},
     "output_type": "execute_result"
    }
   ],
   "source": [
    "pycountry_no_match"
   ]
  },
  {
   "cell_type": "code",
   "execution_count": 17,
   "id": "6045e7b0-9784-4fc8-9f2f-e5212fc753c8",
   "metadata": {},
   "outputs": [
    {
     "data": {
      "text/plain": [
       "[Country(alpha_2='BA', alpha_3='BIH', flag='🇧🇦', name='Bosnia and Herzegovina', numeric='070', official_name='Republic of Bosnia and Herzegovina')]"
      ]
     },
     "execution_count": 17,
     "metadata": {},
     "output_type": "execute_result"
    }
   ],
   "source": [
    "pycountry.countries.search_fuzzy(\"Bosnia\")"
   ]
  },
  {
   "cell_type": "code",
   "execution_count": 18,
   "id": "46ab3e89-af24-4de9-b66d-49cb633d1ed7",
   "metadata": {},
   "outputs": [],
   "source": [
    "country_mapping['Bosnia-Herzegovina'] = \"BIH\"\n",
    "pycountry_no_match.remove('Bosnia-Herzegovina')"
   ]
  },
  {
   "cell_type": "code",
   "execution_count": 19,
   "id": "97725c42-10f4-4f0e-bf69-27ad136df18d",
   "metadata": {},
   "outputs": [
    {
     "data": {
      "text/plain": [
       "[Country(alpha_2='CG', alpha_3='COG', flag='🇨🇬', name='Congo', numeric='178', official_name='Republic of the Congo'),\n",
       " Country(alpha_2='CD', alpha_3='COD', flag='🇨🇩', name='Congo, The Democratic Republic of the', numeric='180')]"
      ]
     },
     "execution_count": 19,
     "metadata": {},
     "output_type": "execute_result"
    }
   ],
   "source": [
    "pycountry.countries.search_fuzzy(\"Congo\")"
   ]
  },
  {
   "cell_type": "code",
   "execution_count": 20,
   "id": "0be52491-4102-4f89-9ffe-5dea1aef2f5c",
   "metadata": {},
   "outputs": [],
   "source": [
    "country_mapping['DR Congo'] = \"COD\"\n",
    "pycountry_no_match.remove('DR Congo')"
   ]
  },
  {
   "cell_type": "code",
   "execution_count": 21,
   "id": "4161b419-458e-4438-8ce6-333a68f7bcbc",
   "metadata": {},
   "outputs": [
    {
     "data": {
      "text/plain": [
       "[Country(alpha_2='LY', alpha_3='LBY', flag='🇱🇾', name='Libya', numeric='434', official_name='Libya')]"
      ]
     },
     "execution_count": 21,
     "metadata": {},
     "output_type": "execute_result"
    }
   ],
   "source": [
    "pycountry.countries.search_fuzzy(\"Libya\")"
   ]
  },
  {
   "cell_type": "code",
   "execution_count": 22,
   "id": "5b68f5d8-fa32-4304-a7d0-837d2df27e9f",
   "metadata": {},
   "outputs": [],
   "source": [
    "country_mapping['Libya GNC'] = \"LBY\"\n",
    "pycountry_no_match.remove('Libya GNC')"
   ]
  },
  {
   "cell_type": "code",
   "execution_count": 23,
   "id": "5cf6cf96-5d1c-4098-befd-ac47be44aa17",
   "metadata": {},
   "outputs": [
    {
     "data": {
      "text/plain": [
       "[Country(alpha_2='YE', alpha_3='YEM', flag='🇾🇪', name='Yemen', numeric='887', official_name='Republic of Yemen')]"
      ]
     },
     "execution_count": 23,
     "metadata": {},
     "output_type": "execute_result"
    }
   ],
   "source": [
    "pycountry.countries.search_fuzzy(\"Yemen\")"
   ]
  },
  {
   "cell_type": "code",
   "execution_count": 24,
   "id": "6f312337-5ea8-4d07-a177-70437b382b11",
   "metadata": {},
   "outputs": [],
   "source": [
    "country_mapping['Yemen Arab Republic (North Yemen)'] = \"YEM\"\n",
    "pycountry_no_match.remove('Yemen Arab Republic (North Yemen)')"
   ]
  },
  {
   "cell_type": "code",
   "execution_count": 25,
   "id": "aab864b4-b37c-4825-abed-0304a71cc545",
   "metadata": {},
   "outputs": [
    {
     "data": {
      "text/plain": [
       "[Country(alpha_2='AE', alpha_3='ARE', flag='🇦🇪', name='United Arab Emirates', numeric='784')]"
      ]
     },
     "execution_count": 25,
     "metadata": {},
     "output_type": "execute_result"
    }
   ],
   "source": [
    "pycountry.countries.search_fuzzy(\"United Arab Emirates\")"
   ]
  },
  {
   "cell_type": "code",
   "execution_count": 26,
   "id": "ff4bc7aa-13fc-4389-b42c-450fc632a1a7",
   "metadata": {},
   "outputs": [],
   "source": [
    "country_mapping['UAE'] = \"United Arab Emirates\"\n",
    "pycountry_no_match.remove('UAE')"
   ]
  },
  {
   "cell_type": "code",
   "execution_count": 27,
   "id": "0b9fd889-614b-4247-9222-00e76b4f3508",
   "metadata": {},
   "outputs": [
    {
     "data": {
      "text/plain": [
       "['Biafra',\n",
       " 'Czechoslovakia',\n",
       " 'East Germany (GDR)',\n",
       " 'North Yemen',\n",
       " 'Northern Cyprus',\n",
       " 'South Vietnam',\n",
       " 'South Yemen',\n",
       " 'Soviet Union',\n",
       " 'Yugoslavia']"
      ]
     },
     "execution_count": 27,
     "metadata": {},
     "output_type": "execute_result"
    }
   ],
   "source": [
    "pycountry_no_match"
   ]
  },
  {
   "cell_type": "code",
   "execution_count": 28,
   "id": "2a766dc7-4ba8-48c8-811b-be08244419f1",
   "metadata": {},
   "outputs": [],
   "source": [
    "former_countries = pycountry_no_match.copy()\n",
    "countries = [country for country in countries if country not in former_countries]"
   ]
  },
  {
   "cell_type": "code",
   "execution_count": 29,
   "id": "30849248-4ace-46dc-8d1f-00e3fe4633a0",
   "metadata": {},
   "outputs": [],
   "source": [
    "def get_region_type(region):\n",
    "    if region in countries:\n",
    "        return 'Country'\n",
    "    elif region in former_countries:\n",
    "        return 'Former Country'\n",
    "    elif region in orgs:\n",
    "        return 'Organisation'\n",
    "    elif region in rebel_groups:\n",
    "        return 'Rebel Group' # check language here\n",
    "    else:\n",
    "        return 'Unknown'"
   ]
  },
  {
   "cell_type": "code",
   "execution_count": 30,
   "id": "1e4ade1d-563f-4a19-92b9-753a98984b64",
   "metadata": {},
   "outputs": [
    {
     "data": {
      "text/html": [
       "<div>\n",
       "<style scoped>\n",
       "    .dataframe tbody tr th:only-of-type {\n",
       "        vertical-align: middle;\n",
       "    }\n",
       "\n",
       "    .dataframe tbody tr th {\n",
       "        vertical-align: top;\n",
       "    }\n",
       "\n",
       "    .dataframe thead th {\n",
       "        text-align: right;\n",
       "    }\n",
       "</style>\n",
       "<table border=\"1\" class=\"dataframe\">\n",
       "  <thead>\n",
       "    <tr style=\"text-align: right;\">\n",
       "      <th></th>\n",
       "      <th>ID</th>\n",
       "      <th>Supplier</th>\n",
       "      <th>Recipient</th>\n",
       "      <th>Armament category</th>\n",
       "      <th>Order year</th>\n",
       "      <th>Delivery year</th>\n",
       "      <th>Numbers delivered</th>\n",
       "      <th>SIPRI estimate</th>\n",
       "      <th>TIV delivery values</th>\n",
       "      <th>Supplier_region_type</th>\n",
       "      <th>Recipient_region_type</th>\n",
       "    </tr>\n",
       "  </thead>\n",
       "  <tbody>\n",
       "    <tr>\n",
       "      <th>0</th>\n",
       "      <td>61768</td>\n",
       "      <td>Belarus</td>\n",
       "      <td>Afghanistan</td>\n",
       "      <td>Aircraft</td>\n",
       "      <td>2018</td>\n",
       "      <td>2019</td>\n",
       "      <td>4</td>\n",
       "      <td>8.50</td>\n",
       "      <td>13.60</td>\n",
       "      <td>Country</td>\n",
       "      <td>Country</td>\n",
       "    </tr>\n",
       "    <tr>\n",
       "      <th>1</th>\n",
       "      <td>52034</td>\n",
       "      <td>Bosnia-Herzegovina</td>\n",
       "      <td>Afghanistan</td>\n",
       "      <td>Artillery</td>\n",
       "      <td>2009</td>\n",
       "      <td>2011</td>\n",
       "      <td>60</td>\n",
       "      <td>0.35</td>\n",
       "      <td>13.86</td>\n",
       "      <td>Country</td>\n",
       "      <td>Country</td>\n",
       "    </tr>\n",
       "    <tr>\n",
       "      <th>2</th>\n",
       "      <td>58418</td>\n",
       "      <td>Bosnia-Herzegovina</td>\n",
       "      <td>Afghanistan</td>\n",
       "      <td>Artillery</td>\n",
       "      <td>2012</td>\n",
       "      <td>2013</td>\n",
       "      <td>20</td>\n",
       "      <td>0.35</td>\n",
       "      <td>2.80</td>\n",
       "      <td>Country</td>\n",
       "      <td>Country</td>\n",
       "    </tr>\n",
       "    <tr>\n",
       "      <th>3</th>\n",
       "      <td>53169</td>\n",
       "      <td>Brazil</td>\n",
       "      <td>Afghanistan</td>\n",
       "      <td>Aircraft</td>\n",
       "      <td>2013</td>\n",
       "      <td>2016</td>\n",
       "      <td>20</td>\n",
       "      <td>4.50</td>\n",
       "      <td>90.00</td>\n",
       "      <td>Country</td>\n",
       "      <td>Country</td>\n",
       "    </tr>\n",
       "    <tr>\n",
       "      <th>4</th>\n",
       "      <td>60320</td>\n",
       "      <td>Brazil</td>\n",
       "      <td>Afghanistan</td>\n",
       "      <td>Aircraft</td>\n",
       "      <td>2017</td>\n",
       "      <td>2018</td>\n",
       "      <td>6</td>\n",
       "      <td>4.50</td>\n",
       "      <td>27.00</td>\n",
       "      <td>Country</td>\n",
       "      <td>Country</td>\n",
       "    </tr>\n",
       "  </tbody>\n",
       "</table>\n",
       "</div>"
      ],
      "text/plain": [
       "      ID            Supplier    Recipient Armament category  Order year  \\\n",
       "0  61768             Belarus  Afghanistan          Aircraft        2018   \n",
       "1  52034  Bosnia-Herzegovina  Afghanistan         Artillery        2009   \n",
       "2  58418  Bosnia-Herzegovina  Afghanistan         Artillery        2012   \n",
       "3  53169              Brazil  Afghanistan          Aircraft        2013   \n",
       "4  60320              Brazil  Afghanistan          Aircraft        2017   \n",
       "\n",
       "   Delivery year  Numbers delivered  SIPRI estimate  TIV delivery values  \\\n",
       "0           2019                  4            8.50                13.60   \n",
       "1           2011                 60            0.35                13.86   \n",
       "2           2013                 20            0.35                 2.80   \n",
       "3           2016                 20            4.50                90.00   \n",
       "4           2018                  6            4.50                27.00   \n",
       "\n",
       "  Supplier_region_type Recipient_region_type  \n",
       "0              Country               Country  \n",
       "1              Country               Country  \n",
       "2              Country               Country  \n",
       "3              Country               Country  \n",
       "4              Country               Country  "
      ]
     },
     "execution_count": 30,
     "metadata": {},
     "output_type": "execute_result"
    }
   ],
   "source": [
    "df['Supplier_region_type'] = df['Supplier'].apply(lambda x: get_region_type(x))\n",
    "df['Recipient_region_type'] = df['Recipient'].apply(lambda x: get_region_type(x))\n",
    "df.head()"
   ]
  },
  {
   "cell_type": "markdown",
   "id": "c382b4d2-2cf5-495d-9399-53922d5efe24",
   "metadata": {},
   "source": [
    "Use pycountry fuzzy match to get rebel groups."
   ]
  },
  {
   "cell_type": "code",
   "execution_count": 31,
   "id": "34142da3-0581-4551-bc1b-31141fc5f354",
   "metadata": {},
   "outputs": [
    {
     "data": {
      "text/plain": [
       "['ANC (South Africa)*',\n",
       " 'Amal (Lebanon)*',\n",
       " 'Anti-Castro rebels (Cuba)*',\n",
       " 'Armas (Guatemala)*',\n",
       " 'Contras (Nicaragua)*',\n",
       " 'Darfur rebels (Sudan)*',\n",
       " 'ELF (Ethiopia)*',\n",
       " 'EPLF (Ethiopia)*',\n",
       " 'FAN (Chad)*',\n",
       " 'FMLN (El Salvador)*',\n",
       " 'FNLA (Angola)*',\n",
       " 'FRELIMO (Portugal)*',\n",
       " 'GUNT (Chad)*',\n",
       " 'Haiti rebels*',\n",
       " 'Hamas (Palestine)*',\n",
       " 'Hezbollah (Lebanon)*',\n",
       " 'Houthi rebels (Yemen)*',\n",
       " 'Indonesia rebels*',\n",
       " 'Khmer Rouge (Cambodia)*',\n",
       " 'Kurdistan Regional Government (Iraq)*',\n",
       " 'LF (Lebanon)*',\n",
       " 'LRA (Uganda)*',\n",
       " 'LTTE (Sri Lanka)*',\n",
       " 'Lebanon Palestinian rebels*',\n",
       " 'Libya HoR*',\n",
       " 'MNLF (Philippines)*',\n",
       " 'MPLA (Portugal)*',\n",
       " 'MTA (Myanmar)*',\n",
       " 'Mujahedin (Afghanistan)*',\n",
       " 'NLA (Macedonia)*',\n",
       " 'NTC (Libya)*',\n",
       " 'Northern Alliance (Afghanistan)*',\n",
       " 'PAIGC (Portugal)*',\n",
       " 'PIJ (Israel/Palestine)*',\n",
       " 'PKK (Turkiye)*',\n",
       " 'PLO (Israel)*',\n",
       " 'PRC (Israel/Palestine)*',\n",
       " 'Pathet Lao (Laos)*',\n",
       " 'Provisional IRA (UK)*',\n",
       " 'RPF (Rwanda)*',\n",
       " 'RUF (Sierra Leone)*',\n",
       " 'SLA (Lebanon)*',\n",
       " 'SNA (Somalia)*',\n",
       " 'SPLA (Sudan)*',\n",
       " 'Southern rebels (Yemen)*',\n",
       " 'Syria rebels*',\n",
       " 'UIC (Somalia)*',\n",
       " 'UNITA (Angola)*',\n",
       " 'Ukraine Rebels*',\n",
       " 'United Wa State (Myanmar)*',\n",
       " 'Viet Cong (South Vietnam)*',\n",
       " 'Viet Minh (France)*',\n",
       " 'ZAPU (Zimbabwe)*']"
      ]
     },
     "execution_count": 31,
     "metadata": {},
     "output_type": "execute_result"
    }
   ],
   "source": [
    "rebel_groups"
   ]
  },
  {
   "cell_type": "code",
   "execution_count": 32,
   "id": "d1b4c887-a94d-4715-9e77-697d3b3e5886",
   "metadata": {},
   "outputs": [],
   "source": [
    "import re"
   ]
  },
  {
   "cell_type": "code",
   "execution_count": 33,
   "id": "cee3a5f9-7ad7-4e24-8a81-a3a2281d7b58",
   "metadata": {},
   "outputs": [],
   "source": [
    "rebel_group_mapping = {}"
   ]
  },
  {
   "cell_type": "code",
   "execution_count": 34,
   "id": "6d514e86-bbb6-4201-8599-644b90d2fb9a",
   "metadata": {},
   "outputs": [
    {
     "data": {
      "text/plain": [
       "'ANC (South Africa)*'"
      ]
     },
     "execution_count": 34,
     "metadata": {},
     "output_type": "execute_result"
    }
   ],
   "source": [
    "d = rebel_groups[0]\n",
    "d"
   ]
  },
  {
   "cell_type": "code",
   "execution_count": 35,
   "id": "c1fe88a7-e85a-4792-a745-6cdbb085e59b",
   "metadata": {},
   "outputs": [
    {
     "data": {
      "text/plain": [
       "'South Africa'"
      ]
     },
     "execution_count": 35,
     "metadata": {},
     "output_type": "execute_result"
    }
   ],
   "source": [
    "re.search(r'\\((.*?)\\)', d).group(1)"
   ]
  },
  {
   "cell_type": "code",
   "execution_count": 36,
   "id": "70800e22-6c6d-4976-aeca-b9cb56ac63c5",
   "metadata": {},
   "outputs": [
    {
     "name": "stdout",
     "output_type": "stream",
     "text": [
      "SubdivisionHierarchy(code='GT-GU', country_code='GT', name='Guatemala', parent_code=None, type='Department')\n",
      "PRC (Israel/Palestine)*\n"
     ]
    }
   ],
   "source": [
    "for group in rebel_groups:\n",
    "    try:\n",
    "        country = re.search(r'\\((.*?)\\)', group).group(1)\n",
    "        rebel_group_mapping[group] = pycountry.countries.search_fuzzy(country)[0].alpha_3\n",
    "    except:\n",
    "        try:\n",
    "            country = group.split(' ', 1)[0]\n",
    "            rebel_group_mapping[group] = pycountry.countries.search_fuzzy(country)[0].alpha_3\n",
    "        except:\n",
    "            print(group)"
   ]
  },
  {
   "cell_type": "code",
   "execution_count": 37,
   "id": "a8b536a2-882e-4aaa-a202-61a15bdce9b5",
   "metadata": {},
   "outputs": [
    {
     "data": {
      "text/plain": [
       "'PSE'"
      ]
     },
     "execution_count": 37,
     "metadata": {},
     "output_type": "execute_result"
    }
   ],
   "source": [
    "pycountry.countries.search_fuzzy(\"Palestine\")[0].alpha_3"
   ]
  },
  {
   "cell_type": "code",
   "execution_count": 38,
   "id": "5be0fd7f-0540-4369-a6ca-43769deb5f3f",
   "metadata": {},
   "outputs": [],
   "source": [
    "rebel_group_mapping['PIJ (Israel/Palestine)*']= 'PSE'\n",
    "rebel_group_mapping['PRC (Israel/Palestine)*']= 'PSE'"
   ]
  },
  {
   "cell_type": "code",
   "execution_count": 39,
   "id": "419d463e-cdfb-4d43-9e1a-37d15f07155c",
   "metadata": {},
   "outputs": [
    {
     "data": {
      "text/plain": [
       "['Biafra',\n",
       " 'Czechoslovakia',\n",
       " 'East Germany (GDR)',\n",
       " 'North Yemen',\n",
       " 'Northern Cyprus',\n",
       " 'South Vietnam',\n",
       " 'South Yemen',\n",
       " 'Soviet Union',\n",
       " 'Yugoslavia']"
      ]
     },
     "execution_count": 39,
     "metadata": {},
     "output_type": "execute_result"
    }
   ],
   "source": [
    "former_countries"
   ]
  },
  {
   "cell_type": "code",
   "execution_count": 40,
   "id": "c223b8e5-707f-4509-a716-1b53f3465a84",
   "metadata": {},
   "outputs": [],
   "source": [
    "former_country_mapping = {\n",
    "    'Biafra':'NGA',\n",
    "    'Czechoslovakia':'CZE',\n",
    "    'East Germany (GDR)':'DEU',\n",
    "    'North Yemen':'YEM',\n",
    "    'Northern Cyprus':'CYP',\n",
    "    'South Vietnam':'VNM',\n",
    "    'South Yemen':'YEM',\n",
    "    'Soviet Union':'RUS',\n",
    "    'Yugoslavia':'SRB'\n",
    "}"
   ]
  },
  {
   "cell_type": "code",
   "execution_count": 41,
   "id": "d7b8efc4-9a92-4afe-a932-6d88a7e4bc6b",
   "metadata": {},
   "outputs": [
    {
     "data": {
      "text/plain": [
       "['African Union**',\n",
       " 'European Union**',\n",
       " 'NATO**',\n",
       " 'OSCE**',\n",
       " 'Regional Security System**',\n",
       " 'United Nations**']"
      ]
     },
     "execution_count": 41,
     "metadata": {},
     "output_type": "execute_result"
    }
   ],
   "source": [
    "orgs"
   ]
  },
  {
   "cell_type": "code",
   "execution_count": 42,
   "id": "a339a0a7-e147-440a-9042-a81fb80aa897",
   "metadata": {},
   "outputs": [],
   "source": [
    "org_mapping = {\n",
    "    'African Union**':'ETH',\n",
    "    'European Union**':'BEL',\n",
    "    'NATO**':'BEL',\n",
    "    'OSCE**':'AUT',\n",
    "    'Regional Security System**':'BRB',\n",
    "    'United Nations**':'USA'\n",
    "}"
   ]
  },
  {
   "cell_type": "code",
   "execution_count": 43,
   "id": "d216832b-94b1-41d2-ab26-5d8cc20025c8",
   "metadata": {},
   "outputs": [],
   "source": [
    "def assign_iso_a3_code_to_row(row):\n",
    "    if row['Supplier_region_type'] == 'Country':\n",
    "        row['Supplier_iso_a3'] = country_mapping[row['Supplier']]\n",
    "    elif row['Supplier_region_type'] == 'Former Country':\n",
    "        row['Supplier_iso_a3'] = former_country_mapping[row['Supplier']]\n",
    "    elif row['Supplier_region_type'] == 'Organisation':\n",
    "        row['Supplier_iso_a3'] = org_mapping[row['Supplier']]\n",
    "    elif row['Supplier_region_type'] == 'Rebel Group':\n",
    "        row['Supplier_iso_a3'] = rebel_group_mapping[row['Supplier']]\n",
    "\n",
    "\n",
    "    if row['Recipient_region_type'] == 'Country':\n",
    "        row['Recipient_iso_a3'] = country_mapping[row['Recipient']]\n",
    "    elif row['Recipient_region_type'] == 'Former Country':\n",
    "        row['Recipient_iso_a3'] = former_country_mapping[row['Recipient']]\n",
    "    elif row['Recipient_region_type'] == 'Organisation':\n",
    "        row['Recipient_iso_a3'] = org_mapping[row['Recipient']]\n",
    "    elif row['Recipient_region_type'] == 'Rebel Group':\n",
    "        row['Recipient_iso_a3'] = rebel_group_mapping[row['Recipient']]\n",
    "\n",
    "    return row"
   ]
  },
  {
   "cell_type": "code",
   "execution_count": 44,
   "id": "bed70f14-8365-4196-b63a-d3bbb338b6a7",
   "metadata": {},
   "outputs": [
    {
     "data": {
      "text/html": [
       "<div>\n",
       "<style scoped>\n",
       "    .dataframe tbody tr th:only-of-type {\n",
       "        vertical-align: middle;\n",
       "    }\n",
       "\n",
       "    .dataframe tbody tr th {\n",
       "        vertical-align: top;\n",
       "    }\n",
       "\n",
       "    .dataframe thead th {\n",
       "        text-align: right;\n",
       "    }\n",
       "</style>\n",
       "<table border=\"1\" class=\"dataframe\">\n",
       "  <thead>\n",
       "    <tr style=\"text-align: right;\">\n",
       "      <th></th>\n",
       "      <th>Armament category</th>\n",
       "      <th>Delivery year</th>\n",
       "      <th>ID</th>\n",
       "      <th>Numbers delivered</th>\n",
       "      <th>Order year</th>\n",
       "      <th>Recipient</th>\n",
       "      <th>Recipient_iso_a3</th>\n",
       "      <th>Recipient_region_type</th>\n",
       "      <th>SIPRI estimate</th>\n",
       "      <th>Supplier</th>\n",
       "      <th>Supplier_iso_a3</th>\n",
       "      <th>Supplier_region_type</th>\n",
       "      <th>TIV delivery values</th>\n",
       "    </tr>\n",
       "  </thead>\n",
       "  <tbody>\n",
       "    <tr>\n",
       "      <th>4863</th>\n",
       "      <td>Aircraft</td>\n",
       "      <td>1967</td>\n",
       "      <td>26163</td>\n",
       "      <td>1</td>\n",
       "      <td>1967</td>\n",
       "      <td>Biafra</td>\n",
       "      <td>NGA</td>\n",
       "      <td>Former Country</td>\n",
       "      <td>5.00</td>\n",
       "      <td>France</td>\n",
       "      <td>FRA</td>\n",
       "      <td>Country</td>\n",
       "      <td>2.0</td>\n",
       "    </tr>\n",
       "    <tr>\n",
       "      <th>4864</th>\n",
       "      <td>Aircraft</td>\n",
       "      <td>1969</td>\n",
       "      <td>25884</td>\n",
       "      <td>4</td>\n",
       "      <td>1969</td>\n",
       "      <td>Biafra</td>\n",
       "      <td>NGA</td>\n",
       "      <td>Former Country</td>\n",
       "      <td>0.25</td>\n",
       "      <td>France</td>\n",
       "      <td>FRA</td>\n",
       "      <td>Country</td>\n",
       "      <td>0.4</td>\n",
       "    </tr>\n",
       "    <tr>\n",
       "      <th>4865</th>\n",
       "      <td>Aircraft</td>\n",
       "      <td>1967</td>\n",
       "      <td>26271</td>\n",
       "      <td>2</td>\n",
       "      <td>1967</td>\n",
       "      <td>Biafra</td>\n",
       "      <td>NGA</td>\n",
       "      <td>Former Country</td>\n",
       "      <td>2.25</td>\n",
       "      <td>Portugal</td>\n",
       "      <td>PRT</td>\n",
       "      <td>Country</td>\n",
       "      <td>1.8</td>\n",
       "    </tr>\n",
       "    <tr>\n",
       "      <th>4866</th>\n",
       "      <td>Aircraft</td>\n",
       "      <td>1969</td>\n",
       "      <td>25230</td>\n",
       "      <td>5</td>\n",
       "      <td>1969</td>\n",
       "      <td>Biafra</td>\n",
       "      <td>NGA</td>\n",
       "      <td>Former Country</td>\n",
       "      <td>0.14</td>\n",
       "      <td>Sweden</td>\n",
       "      <td>SWE</td>\n",
       "      <td>Country</td>\n",
       "      <td>0.7</td>\n",
       "    </tr>\n",
       "    <tr>\n",
       "      <th>4867</th>\n",
       "      <td>Aircraft</td>\n",
       "      <td>1967</td>\n",
       "      <td>15909</td>\n",
       "      <td>1</td>\n",
       "      <td>1967</td>\n",
       "      <td>Biafra</td>\n",
       "      <td>NGA</td>\n",
       "      <td>Former Country</td>\n",
       "      <td>5.00</td>\n",
       "      <td>United States</td>\n",
       "      <td>USA</td>\n",
       "      <td>Country</td>\n",
       "      <td>2.0</td>\n",
       "    </tr>\n",
       "  </tbody>\n",
       "</table>\n",
       "</div>"
      ],
      "text/plain": [
       "     Armament category  Delivery year     ID  Numbers delivered  Order year  \\\n",
       "4863          Aircraft           1967  26163                  1        1967   \n",
       "4864          Aircraft           1969  25884                  4        1969   \n",
       "4865          Aircraft           1967  26271                  2        1967   \n",
       "4866          Aircraft           1969  25230                  5        1969   \n",
       "4867          Aircraft           1967  15909                  1        1967   \n",
       "\n",
       "     Recipient Recipient_iso_a3 Recipient_region_type  SIPRI estimate  \\\n",
       "4863    Biafra              NGA        Former Country            5.00   \n",
       "4864    Biafra              NGA        Former Country            0.25   \n",
       "4865    Biafra              NGA        Former Country            2.25   \n",
       "4866    Biafra              NGA        Former Country            0.14   \n",
       "4867    Biafra              NGA        Former Country            5.00   \n",
       "\n",
       "           Supplier Supplier_iso_a3 Supplier_region_type  TIV delivery values  \n",
       "4863         France             FRA              Country                  2.0  \n",
       "4864         France             FRA              Country                  0.4  \n",
       "4865       Portugal             PRT              Country                  1.8  \n",
       "4866         Sweden             SWE              Country                  0.7  \n",
       "4867  United States             USA              Country                  2.0  "
      ]
     },
     "execution_count": 44,
     "metadata": {},
     "output_type": "execute_result"
    }
   ],
   "source": [
    "df = df.apply(lambda row: assign_iso_a3_code_to_row(row), axis=1)\n",
    "df[df['Recipient_region_type']=='Former Country'].head()"
   ]
  },
  {
   "cell_type": "code",
   "execution_count": 1,
   "id": "17b737b0-0bae-4071-a355-297a57d38908",
   "metadata": {},
   "outputs": [],
   "source": [
    "import geopandas as gpd"
   ]
  },
  {
   "cell_type": "code",
   "execution_count": 2,
   "id": "599427a9-0de3-4022-81c1-4a2143c8d83b",
   "metadata": {},
   "outputs": [
    {
     "name": "stderr",
     "output_type": "stream",
     "text": [
      "/tmp/ipykernel_1935/3403629583.py:1: FutureWarning: The geopandas.dataset module is deprecated and will be removed in GeoPandas 1.0. You can get the original 'naturalearth_lowres' data from https://www.naturalearthdata.com/downloads/110m-cultural-vectors/.\n",
      "  naturalearth_lowres = gpd.read_file(gpd.datasets.get_path(\"naturalearth_lowres\"))\n"
     ]
    },
    {
     "data": {
      "text/html": [
       "<div>\n",
       "<style scoped>\n",
       "    .dataframe tbody tr th:only-of-type {\n",
       "        vertical-align: middle;\n",
       "    }\n",
       "\n",
       "    .dataframe tbody tr th {\n",
       "        vertical-align: top;\n",
       "    }\n",
       "\n",
       "    .dataframe thead th {\n",
       "        text-align: right;\n",
       "    }\n",
       "</style>\n",
       "<table border=\"1\" class=\"dataframe\">\n",
       "  <thead>\n",
       "    <tr style=\"text-align: right;\">\n",
       "      <th></th>\n",
       "      <th>pop_est</th>\n",
       "      <th>continent</th>\n",
       "      <th>name</th>\n",
       "      <th>iso_a3</th>\n",
       "      <th>gdp_md_est</th>\n",
       "      <th>geometry</th>\n",
       "    </tr>\n",
       "  </thead>\n",
       "  <tbody>\n",
       "    <tr>\n",
       "      <th>0</th>\n",
       "      <td>889953.0</td>\n",
       "      <td>Oceania</td>\n",
       "      <td>Fiji</td>\n",
       "      <td>FJI</td>\n",
       "      <td>5496</td>\n",
       "      <td>MULTIPOLYGON (((180.00000 -16.06713, 180.00000...</td>\n",
       "    </tr>\n",
       "    <tr>\n",
       "      <th>1</th>\n",
       "      <td>58005463.0</td>\n",
       "      <td>Africa</td>\n",
       "      <td>Tanzania</td>\n",
       "      <td>TZA</td>\n",
       "      <td>63177</td>\n",
       "      <td>POLYGON ((33.90371 -0.95000, 34.07262 -1.05982...</td>\n",
       "    </tr>\n",
       "    <tr>\n",
       "      <th>2</th>\n",
       "      <td>603253.0</td>\n",
       "      <td>Africa</td>\n",
       "      <td>W. Sahara</td>\n",
       "      <td>ESH</td>\n",
       "      <td>907</td>\n",
       "      <td>POLYGON ((-8.66559 27.65643, -8.66512 27.58948...</td>\n",
       "    </tr>\n",
       "    <tr>\n",
       "      <th>3</th>\n",
       "      <td>37589262.0</td>\n",
       "      <td>North America</td>\n",
       "      <td>Canada</td>\n",
       "      <td>CAN</td>\n",
       "      <td>1736425</td>\n",
       "      <td>MULTIPOLYGON (((-122.84000 49.00000, -122.9742...</td>\n",
       "    </tr>\n",
       "    <tr>\n",
       "      <th>4</th>\n",
       "      <td>328239523.0</td>\n",
       "      <td>North America</td>\n",
       "      <td>United States of America</td>\n",
       "      <td>USA</td>\n",
       "      <td>21433226</td>\n",
       "      <td>MULTIPOLYGON (((-122.84000 49.00000, -120.0000...</td>\n",
       "    </tr>\n",
       "  </tbody>\n",
       "</table>\n",
       "</div>"
      ],
      "text/plain": [
       "       pop_est      continent                      name iso_a3  gdp_md_est  \\\n",
       "0     889953.0        Oceania                      Fiji    FJI        5496   \n",
       "1   58005463.0         Africa                  Tanzania    TZA       63177   \n",
       "2     603253.0         Africa                 W. Sahara    ESH         907   \n",
       "3   37589262.0  North America                    Canada    CAN     1736425   \n",
       "4  328239523.0  North America  United States of America    USA    21433226   \n",
       "\n",
       "                                            geometry  \n",
       "0  MULTIPOLYGON (((180.00000 -16.06713, 180.00000...  \n",
       "1  POLYGON ((33.90371 -0.95000, 34.07262 -1.05982...  \n",
       "2  POLYGON ((-8.66559 27.65643, -8.66512 27.58948...  \n",
       "3  MULTIPOLYGON (((-122.84000 49.00000, -122.9742...  \n",
       "4  MULTIPOLYGON (((-122.84000 49.00000, -120.0000...  "
      ]
     },
     "execution_count": 2,
     "metadata": {},
     "output_type": "execute_result"
    }
   ],
   "source": [
    "naturalearth_lowres = gpd.read_file(gpd.datasets.get_path(\"naturalearth_lowres\"))\n",
    "naturalearth_lowres.head()"
   ]
  },
  {
   "cell_type": "code",
   "execution_count": 3,
   "id": "2879fa07-ad28-4e14-bd46-cea811a1a5dd",
   "metadata": {},
   "outputs": [
    {
     "data": {
      "text/html": [
       "<div>\n",
       "<style scoped>\n",
       "    .dataframe tbody tr th:only-of-type {\n",
       "        vertical-align: middle;\n",
       "    }\n",
       "\n",
       "    .dataframe tbody tr th {\n",
       "        vertical-align: top;\n",
       "    }\n",
       "\n",
       "    .dataframe thead th {\n",
       "        text-align: right;\n",
       "    }\n",
       "</style>\n",
       "<table border=\"1\" class=\"dataframe\">\n",
       "  <thead>\n",
       "    <tr style=\"text-align: right;\">\n",
       "      <th></th>\n",
       "      <th>continent</th>\n",
       "      <th>name</th>\n",
       "      <th>iso_a3</th>\n",
       "      <th>geometry</th>\n",
       "    </tr>\n",
       "  </thead>\n",
       "  <tbody>\n",
       "    <tr>\n",
       "      <th>0</th>\n",
       "      <td>Oceania</td>\n",
       "      <td>Fiji</td>\n",
       "      <td>FJI</td>\n",
       "      <td>MULTIPOLYGON (((180.00000 -16.06713, 180.00000...</td>\n",
       "    </tr>\n",
       "    <tr>\n",
       "      <th>1</th>\n",
       "      <td>Africa</td>\n",
       "      <td>Tanzania</td>\n",
       "      <td>TZA</td>\n",
       "      <td>POLYGON ((33.90371 -0.95000, 34.07262 -1.05982...</td>\n",
       "    </tr>\n",
       "    <tr>\n",
       "      <th>2</th>\n",
       "      <td>Africa</td>\n",
       "      <td>W. Sahara</td>\n",
       "      <td>ESH</td>\n",
       "      <td>POLYGON ((-8.66559 27.65643, -8.66512 27.58948...</td>\n",
       "    </tr>\n",
       "    <tr>\n",
       "      <th>3</th>\n",
       "      <td>North America</td>\n",
       "      <td>Canada</td>\n",
       "      <td>CAN</td>\n",
       "      <td>MULTIPOLYGON (((-122.84000 49.00000, -122.9742...</td>\n",
       "    </tr>\n",
       "    <tr>\n",
       "      <th>4</th>\n",
       "      <td>North America</td>\n",
       "      <td>United States of America</td>\n",
       "      <td>USA</td>\n",
       "      <td>MULTIPOLYGON (((-122.84000 49.00000, -120.0000...</td>\n",
       "    </tr>\n",
       "  </tbody>\n",
       "</table>\n",
       "</div>"
      ],
      "text/plain": [
       "       continent                      name iso_a3  \\\n",
       "0        Oceania                      Fiji    FJI   \n",
       "1         Africa                  Tanzania    TZA   \n",
       "2         Africa                 W. Sahara    ESH   \n",
       "3  North America                    Canada    CAN   \n",
       "4  North America  United States of America    USA   \n",
       "\n",
       "                                            geometry  \n",
       "0  MULTIPOLYGON (((180.00000 -16.06713, 180.00000...  \n",
       "1  POLYGON ((33.90371 -0.95000, 34.07262 -1.05982...  \n",
       "2  POLYGON ((-8.66559 27.65643, -8.66512 27.58948...  \n",
       "3  MULTIPOLYGON (((-122.84000 49.00000, -122.9742...  \n",
       "4  MULTIPOLYGON (((-122.84000 49.00000, -120.0000...  "
      ]
     },
     "execution_count": 3,
     "metadata": {},
     "output_type": "execute_result"
    }
   ],
   "source": [
    "world_map_data = naturalearth_lowres[['continent', 'name', 'iso_a3', 'geometry']].copy()\n",
    "world_map_data = world_map_data[world_map_data['name']!='Antarctica']\n",
    "world_map_data.head()"
   ]
  },
  {
   "cell_type": "code",
   "execution_count": 20,
   "id": "f742cd48-eb3e-4080-864e-7dabf081748a",
   "metadata": {},
   "outputs": [
    {
     "data": {
      "image/svg+xml": [
       "<svg xmlns=\"http://www.w3.org/2000/svg\" xmlns:xlink=\"http://www.w3.org/1999/xlink\" width=\"300\" height=\"100.0\" viewBox=\"-194.4 -32.68799 388.8 31.067107743258774\" preserveAspectRatio=\"xMinYMin meet\"><g transform=\"matrix(1,0,0,-1,0,-34.308872256741225)\"><g><path fill-rule=\"evenodd\" fill=\"#66cc99\" stroke=\"#555555\" stroke-width=\"2.592\" opacity=\"0.6\" d=\"M 180.0,-16.067132663642447 L 180.0,-16.555216566639196 L 179.36414266196414,-16.801354076946883 L 178.72505936299711,-17.01204167436804 L 178.59683859511713,-16.639150000000004 L 179.0966093629971,-16.433984277547403 L 179.4135093629971,-16.379054277547404 L 180.0,-16.067132663642447 z\" /><path fill-rule=\"evenodd\" fill=\"#66cc99\" stroke=\"#555555\" stroke-width=\"2.592\" opacity=\"0.6\" d=\"M 178.12557,-17.50481 L 178.3736,-17.33992 L 178.71806,-17.62846 L 178.55271,-18.15059 L 177.93266000000003,-18.28799 L 177.38146,-18.16432 L 177.28504,-17.72465 L 177.67087,-17.381140000000002 L 178.12557,-17.50481 z\" /><path fill-rule=\"evenodd\" fill=\"#66cc99\" stroke=\"#555555\" stroke-width=\"2.592\" opacity=\"0.6\" d=\"M -179.79332010904864,-16.020882256741224 L -179.9173693847653,-16.501783135649397 L -180.0,-16.555216566639196 L -180.0,-16.067132663642447 L -179.79332010904864,-16.020882256741224 z\" /></g></g></svg>"
      ],
      "text/plain": [
       "<MULTIPOLYGON (((180 -16.067, 180 -16.555, 179.364 -16.801, 178.725 -17.012,...>"
      ]
     },
     "execution_count": 20,
     "metadata": {},
     "output_type": "execute_result"
    }
   ],
   "source": [
    "world_map_data.iloc[0].geometry"
   ]
  },
  {
   "cell_type": "code",
   "execution_count": 28,
   "id": "2588bf7f-94d6-4537-bb39-e23afd2f1bb0",
   "metadata": {},
   "outputs": [
    {
     "data": {
      "text/plain": [
       "{'type': 'MultiPolygon',\n",
       " 'coordinates': [(((180.0, -16.067132663642447),\n",
       "    (180.0, -16.555216566639196),\n",
       "    (179.36414266196414, -16.801354076946883),\n",
       "    (178.72505936299711, -17.01204167436804),\n",
       "    (178.59683859511713, -16.639150000000004),\n",
       "    (179.0966093629971, -16.433984277547403),\n",
       "    (179.4135093629971, -16.379054277547404),\n",
       "    (180.0, -16.067132663642447)),),\n",
       "  (((178.12557, -17.50481),\n",
       "    (178.3736, -17.33992),\n",
       "    (178.71806, -17.62846),\n",
       "    (178.55271, -18.15059),\n",
       "    (177.93266000000003, -18.28799),\n",
       "    (177.38146, -18.16432),\n",
       "    (177.28504, -17.72465),\n",
       "    (177.67087, -17.381140000000002),\n",
       "    (178.12557, -17.50481)),),\n",
       "  (((-179.79332010904864, -16.020882256741224),\n",
       "    (-179.9173693847653, -16.501783135649397),\n",
       "    (-180.0, -16.555216566639196),\n",
       "    (-180.0, -16.067132663642447),\n",
       "    (-179.79332010904864, -16.020882256741224)),)]}"
      ]
     },
     "execution_count": 28,
     "metadata": {},
     "output_type": "execute_result"
    }
   ],
   "source": [
    "world_map_data.iloc[0].geometry.__geo_interface__"
   ]
  },
  {
   "cell_type": "code",
   "execution_count": 29,
   "id": "49df11d6-70c6-428c-841c-18bc8580a62e",
   "metadata": {},
   "outputs": [
    {
     "data": {
      "image/svg+xml": [
       "<svg xmlns=\"http://www.w3.org/2000/svg\" xmlns:xlink=\"http://www.w3.org/1999/xlink\" width=\"100.0\" height=\"100.0\" viewBox=\"28.90093389661636 -12.160001698450722 11.854719799667649 11.64906539473471\" preserveAspectRatio=\"xMinYMin meet\"><g transform=\"matrix(1,0,0,-1,0,-12.670938002166736)\"><path fill-rule=\"evenodd\" fill=\"#66cc99\" stroke=\"#555555\" stroke-width=\"0.23709439599335297\" opacity=\"0.6\" d=\"M 33.90371119710453,-0.9500000000000001 L 34.07261999999997,-1.0598199999999451 L 37.69868999999994,-3.0969899999999484 L 37.7669,-3.6771200000000004 L 39.20222,-4.67677 L 38.74053999999995,-5.9089499999999475 L 38.79977000000008,-6.475660000000005 L 39.44,-6.839999999999861 L 39.47000000000014,-7.099999999999966 L 39.19468999999998,-7.703899999999976 L 39.25203000000005,-8.00780999999995 L 39.18652000000009,-8.48550999999992 L 39.53574000000009,-9.112369999999885 L 39.94960000000003,-10.098400000000026 L 40.316586229110854,-10.317097752817492 L 40.31659000000002,-10.317099999999868 L 39.52099999999996,-10.89688000000001 L 38.42755659358775,-11.285202325081656 L 37.827639999999974,-11.26878999999991 L 37.471289999999954,-11.568759999999997 L 36.775150994622805,-11.594537448780805 L 36.51408165868426,-11.720938002166735 L 35.31239790216904,-11.439146416879147 L 34.55998904799935,-11.520020033415925 L 34.27999999999997,-10.160000000000025 L 33.940837724096525,-9.693673841980285 L 33.73972000000009,-9.417149999999992 L 32.75937544122132,-9.23059905358906 L 32.19186486179194,-8.930358981973257 L 31.556348097466497,-8.762048841998642 L 31.15775133695005,-8.594578747317366 L 30.740009731422095,-8.34000593035372 L 30.74001549655179,-8.340007419470915 L 30.199996779101696,-7.079980970898163 L 29.620032179490014,-6.520015150583426 L 29.419992710088167,-5.939998874539434 L 29.519986606572928,-5.419978936386315 L 29.339997592900346,-4.4999834122940925 L 29.753512404099865,-4.452389418153302 L 30.11632000000003,-4.090120000000013 L 30.505539999999996,-3.5685799999999404 L 30.752240000000086,-3.3593099999999936 L 30.743010000000027,-3.034309999999948 L 30.527660000000026,-2.807619999999986 L 30.469673645761223,-2.41385475710134 L 30.469670000000008,-2.4138299999999617 L 30.75830895358311,-2.2872502579883687 L 30.816134881317712,-1.6989140763453887 L 30.419104852019245,-1.1346591121504161 L 30.769860000000108,-1.0145499999999856 L 31.866170000000068,-1.0273599999999306 L 33.90371119710453,-0.9500000000000001 z\" /></g></svg>"
      ],
      "text/plain": [
       "<POLYGON ((33.904 -0.95, 34.073 -1.06, 37.699 -3.097, 37.767 -3.677, 39.202 ...>"
      ]
     },
     "execution_count": 29,
     "metadata": {},
     "output_type": "execute_result"
    }
   ],
   "source": [
    "world_map_data.iloc[1].geometry"
   ]
  },
  {
   "cell_type": "code",
   "execution_count": 30,
   "id": "22ff5e4d-c8ed-42b3-8398-058a79b2b7a4",
   "metadata": {},
   "outputs": [
    {
     "data": {
      "text/plain": [
       "{'type': 'Polygon',\n",
       " 'coordinates': (((33.90371119710453, -0.9500000000000001),\n",
       "   (34.07261999999997, -1.0598199999999451),\n",
       "   (37.69868999999994, -3.0969899999999484),\n",
       "   (37.7669, -3.6771200000000004),\n",
       "   (39.20222, -4.67677),\n",
       "   (38.74053999999995, -5.9089499999999475),\n",
       "   (38.79977000000008, -6.475660000000005),\n",
       "   (39.44, -6.839999999999861),\n",
       "   (39.47000000000014, -7.099999999999966),\n",
       "   (39.19468999999998, -7.703899999999976),\n",
       "   (39.25203000000005, -8.00780999999995),\n",
       "   (39.18652000000009, -8.48550999999992),\n",
       "   (39.53574000000009, -9.112369999999885),\n",
       "   (39.94960000000003, -10.098400000000026),\n",
       "   (40.316586229110854, -10.317097752817492),\n",
       "   (40.31659000000002, -10.317099999999868),\n",
       "   (39.52099999999996, -10.89688000000001),\n",
       "   (38.42755659358775, -11.285202325081656),\n",
       "   (37.827639999999974, -11.26878999999991),\n",
       "   (37.471289999999954, -11.568759999999997),\n",
       "   (36.775150994622805, -11.594537448780805),\n",
       "   (36.51408165868426, -11.720938002166735),\n",
       "   (35.31239790216904, -11.439146416879147),\n",
       "   (34.55998904799935, -11.520020033415925),\n",
       "   (34.27999999999997, -10.160000000000025),\n",
       "   (33.940837724096525, -9.693673841980285),\n",
       "   (33.73972000000009, -9.417149999999992),\n",
       "   (32.75937544122132, -9.23059905358906),\n",
       "   (32.19186486179194, -8.930358981973257),\n",
       "   (31.556348097466497, -8.762048841998642),\n",
       "   (31.15775133695005, -8.594578747317366),\n",
       "   (30.740009731422095, -8.34000593035372),\n",
       "   (30.74001549655179, -8.340007419470915),\n",
       "   (30.199996779101696, -7.079980970898163),\n",
       "   (29.620032179490014, -6.520015150583426),\n",
       "   (29.419992710088167, -5.939998874539434),\n",
       "   (29.519986606572928, -5.419978936386315),\n",
       "   (29.339997592900346, -4.4999834122940925),\n",
       "   (29.753512404099865, -4.452389418153302),\n",
       "   (30.11632000000003, -4.090120000000013),\n",
       "   (30.505539999999996, -3.5685799999999404),\n",
       "   (30.752240000000086, -3.3593099999999936),\n",
       "   (30.743010000000027, -3.034309999999948),\n",
       "   (30.527660000000026, -2.807619999999986),\n",
       "   (30.469673645761223, -2.41385475710134),\n",
       "   (30.469670000000008, -2.4138299999999617),\n",
       "   (30.75830895358311, -2.2872502579883687),\n",
       "   (30.816134881317712, -1.6989140763453887),\n",
       "   (30.419104852019245, -1.1346591121504161),\n",
       "   (30.769860000000108, -1.0145499999999856),\n",
       "   (31.866170000000068, -1.0273599999999306),\n",
       "   (33.90371119710453, -0.9500000000000001)),)}"
      ]
     },
     "execution_count": 30,
     "metadata": {},
     "output_type": "execute_result"
    }
   ],
   "source": [
    "world_map_data.iloc[1].geometry.__geo_interface__"
   ]
  },
  {
   "cell_type": "code",
   "execution_count": 31,
   "id": "6de96d52-1054-4f17-a34c-e8691bad613c",
   "metadata": {},
   "outputs": [
    {
     "name": "stderr",
     "output_type": "stream",
     "text": [
      "/tmp/ipykernel_1935/553714498.py:1: FutureWarning: Currently, index_parts defaults to True, but in the future, it will default to False to be consistent with Pandas. Use `index_parts=True` to keep the current behavior and True/False to silence the warning.\n",
      "  naturalearth_lowres.explode().head()\n"
     ]
    },
    {
     "data": {
      "text/html": [
       "<div>\n",
       "<style scoped>\n",
       "    .dataframe tbody tr th:only-of-type {\n",
       "        vertical-align: middle;\n",
       "    }\n",
       "\n",
       "    .dataframe tbody tr th {\n",
       "        vertical-align: top;\n",
       "    }\n",
       "\n",
       "    .dataframe thead th {\n",
       "        text-align: right;\n",
       "    }\n",
       "</style>\n",
       "<table border=\"1\" class=\"dataframe\">\n",
       "  <thead>\n",
       "    <tr style=\"text-align: right;\">\n",
       "      <th></th>\n",
       "      <th></th>\n",
       "      <th>pop_est</th>\n",
       "      <th>continent</th>\n",
       "      <th>name</th>\n",
       "      <th>iso_a3</th>\n",
       "      <th>gdp_md_est</th>\n",
       "      <th>geometry</th>\n",
       "    </tr>\n",
       "  </thead>\n",
       "  <tbody>\n",
       "    <tr>\n",
       "      <th rowspan=\"3\" valign=\"top\">0</th>\n",
       "      <th>0</th>\n",
       "      <td>889953.0</td>\n",
       "      <td>Oceania</td>\n",
       "      <td>Fiji</td>\n",
       "      <td>FJI</td>\n",
       "      <td>5496</td>\n",
       "      <td>POLYGON ((180.00000 -16.06713, 180.00000 -16.5...</td>\n",
       "    </tr>\n",
       "    <tr>\n",
       "      <th>1</th>\n",
       "      <td>889953.0</td>\n",
       "      <td>Oceania</td>\n",
       "      <td>Fiji</td>\n",
       "      <td>FJI</td>\n",
       "      <td>5496</td>\n",
       "      <td>POLYGON ((178.12557 -17.50481, 178.37360 -17.3...</td>\n",
       "    </tr>\n",
       "    <tr>\n",
       "      <th>2</th>\n",
       "      <td>889953.0</td>\n",
       "      <td>Oceania</td>\n",
       "      <td>Fiji</td>\n",
       "      <td>FJI</td>\n",
       "      <td>5496</td>\n",
       "      <td>POLYGON ((-179.79332 -16.02088, -179.91737 -16...</td>\n",
       "    </tr>\n",
       "    <tr>\n",
       "      <th>1</th>\n",
       "      <th>0</th>\n",
       "      <td>58005463.0</td>\n",
       "      <td>Africa</td>\n",
       "      <td>Tanzania</td>\n",
       "      <td>TZA</td>\n",
       "      <td>63177</td>\n",
       "      <td>POLYGON ((33.90371 -0.95000, 34.07262 -1.05982...</td>\n",
       "    </tr>\n",
       "    <tr>\n",
       "      <th>2</th>\n",
       "      <th>0</th>\n",
       "      <td>603253.0</td>\n",
       "      <td>Africa</td>\n",
       "      <td>W. Sahara</td>\n",
       "      <td>ESH</td>\n",
       "      <td>907</td>\n",
       "      <td>POLYGON ((-8.66559 27.65643, -8.66512 27.58948...</td>\n",
       "    </tr>\n",
       "  </tbody>\n",
       "</table>\n",
       "</div>"
      ],
      "text/plain": [
       "        pop_est continent       name iso_a3  gdp_md_est  \\\n",
       "0 0    889953.0   Oceania       Fiji    FJI        5496   \n",
       "  1    889953.0   Oceania       Fiji    FJI        5496   \n",
       "  2    889953.0   Oceania       Fiji    FJI        5496   \n",
       "1 0  58005463.0    Africa   Tanzania    TZA       63177   \n",
       "2 0    603253.0    Africa  W. Sahara    ESH         907   \n",
       "\n",
       "                                              geometry  \n",
       "0 0  POLYGON ((180.00000 -16.06713, 180.00000 -16.5...  \n",
       "  1  POLYGON ((178.12557 -17.50481, 178.37360 -17.3...  \n",
       "  2  POLYGON ((-179.79332 -16.02088, -179.91737 -16...  \n",
       "1 0  POLYGON ((33.90371 -0.95000, 34.07262 -1.05982...  \n",
       "2 0  POLYGON ((-8.66559 27.65643, -8.66512 27.58948...  "
      ]
     },
     "execution_count": 31,
     "metadata": {},
     "output_type": "execute_result"
    }
   ],
   "source": [
    "naturalearth_lowres.explode().head()"
   ]
  },
  {
   "cell_type": "code",
   "execution_count": null,
   "id": "4333bae6-297b-42f9-b377-a847065d5cd2",
   "metadata": {},
   "outputs": [],
   "source": []
  }
 ],
 "metadata": {
  "kernelspec": {
   "display_name": "arms_trade_env",
   "language": "python",
   "name": "arms_trade_env"
  },
  "language_info": {
   "codemirror_mode": {
    "name": "ipython",
    "version": 3
   },
   "file_extension": ".py",
   "mimetype": "text/x-python",
   "name": "python",
   "nbconvert_exporter": "python",
   "pygments_lexer": "ipython3",
   "version": "3.10.14"
  }
 },
 "nbformat": 4,
 "nbformat_minor": 5
}
